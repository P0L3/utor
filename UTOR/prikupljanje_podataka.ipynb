{
 "cells": [
  {
   "cell_type": "markdown",
   "metadata": {},
   "source": [
    "# Prikupljanje podataka"
   ]
  },
  {
   "cell_type": "markdown",
   "metadata": {},
   "source": [
    "## [**Web scraping**](https://realpython.com/beautiful-soup-web-scraper-python/) \n",
    "\n",
    "Web scraping je proces (automatiziranog) prikupljanja podataka s interneta. Prilikom web scrapinga bitno se informirati o mogućim [ograničenjima i zabranama](https://benbernardblog.com/web-scraping-and-crawling-are-perfectly-legal-right/). Benoit Bernard navodi neke od ključnih koraka kako bismo se osigurali od kršenja prava i odredbi vezanih uz podatke koje prikupljamo:\n",
    "\n",
    "1. Koristite API ako je dostupan\n",
    "2. Poštujte uvjete pružanja usluge (*engl. Terms of Service* )\n",
    "3. Poštujte [*robots.txt*](https://www.inf.uniri.hr/robots.txt)\n",
    "4. Koristite razuman *crawl rate* - ne pretjerujte sa slanjem upita \n",
    "5. ...\n",
    "\n",
    "\n",
    "\n",
    "> *\"You write your code once, and it will get the information you want many times and from many pages.\"*"
   ]
  },
  {
   "cell_type": "markdown",
   "metadata": {},
   "source": [
    "### Istraživanje web sjedišta\n",
    "\n",
    "Kako bismo efektivno automatizirali proces prikupljanja podataka, potrebno se pobliže upoznati sa samom strukturom web sjedišta. Na ovim vježbama, zadatak nam je preuzeti sve izvedbene programe kolegija na [**Fakultetu informatike i digitalnih tehnologija**](https://www.inf.uniri.hr/). Kroz interakcije s web sjedištem pronađite stranicu na kojoj se nalaze informacije o izvedbenim programima.\n",
    "\n"
   ]
  },
  {
   "cell_type": "markdown",
   "metadata": {},
   "source": [
    "#### Analiza URL-a\n",
    "\n",
    "Pojedini URL-ovi otkrivaju nam korisne informacije o samom web sjedištu, npr. iz URL-a:     \n",
    "\n",
    "https://www.inf.uniri.hr/nastava/izvedbeni-programi \n",
    "\n",
    "moguće je pretpostaviti URL na kojem se nalaze izvedbeni programi prijediplomskog studija:  \n",
    "\n",
    "https://www.inf.uniri.hr/nastava/izvedbeni-programi/prijediplomski-studij. \n",
    "\n",
    "Slično, možemo zaključiti da se izvedbeni programi diplomskog studija nalaze na URL-u:      \n",
    "\n",
    "https://www.inf.uniri.hr/nastava/izvedbeni-programi/diplomski-studij. \n",
    "\n",
    "Sa zaključcima ne treba brzati, iako struktura postoji, **najčešće** nije konzistenta.\n",
    "\n",
    "![](./Images/404_kategorija_nije_pronadena.png)"
   ]
  },
  {
   "cell_type": "markdown",
   "metadata": {},
   "source": [
    "#### Analiza sjedišta razvojnim alatima (Developer Tools)\n",
    "\n",
    "Razvojni alati omogućuju nam direktno uređivanje stranica, dijagnosticiranje problema i upoznavanje sa strukturom.\n",
    "\n",
    "![](./Images/Dev_tools.png)\n",
    "\n"
   ]
  },
  {
   "cell_type": "markdown",
   "metadata": {},
   "source": [
    "### Dohvaćanje podataka sa web sjedišta\n",
    "\n",
    "Pomoću biblioteke [requests](https://www.w3schools.com/python/module_requests.asp) dohvatimo stranicu s izvedbenim programima prijediplomskog studija: https://www.inf.uniri.hr/nastava/izvedbeni-programi/prijediplomski-studij"
   ]
  },
  {
   "cell_type": "code",
   "execution_count": null,
   "metadata": {},
   "outputs": [],
   "source": [
    "import requests \n",
    "\n",
    "URL = \"https://www.inf.uniri.hr/nastava/izvedbeni-programi/prijediplomski-studij\"\n",
    "page = requests.get(URL)\n",
    "\n",
    "print(page.text)"
   ]
  },
  {
   "cell_type": "markdown",
   "metadata": {},
   "source": [
    "Ispisivanjem sadržaja `text` atributa objekta `page` vidimo HTML sadržaj identičan onome u *inspector* prozoru razvojnih alata. Odlična vijest za nas, dio web sjedišta koji nas interesira je statičan! Probajmo dohvatiti interesantne informacije, na primjer, sve nazive kolegija te njihove nositelje."
   ]
  },
  {
   "cell_type": "markdown",
   "metadata": {},
   "source": [
    "#### Dohvaćanje podataka split + regex\n",
    "\n",
    "> ZADATAK 1. Dohvaćanje podataka o nazivu kolegija i nositelju pomoću metode `split()`"
   ]
  },
  {
   "cell_type": "code",
   "execution_count": null,
   "metadata": {},
   "outputs": [],
   "source": [
    "# Korištenjem metode split\n",
    "\n",
    "retci_tablice = page.text.split(\"<tr>\")\n",
    "print(retci_tablice)\n",
    "\n",
    "for redak in retci_tablice:\n",
    "    try:\n",
    "        print(redak.split(\"<td>\")[2].replace(\"</td>\", \"\"))\n",
    "        print(redak.split(\"<td>\")[3].replace(\"</td>\", \"\"))\n",
    "        print(\"-\"*20)\n",
    "    except IndexError:\n",
    "        print(\"\")"
   ]
  },
  {
   "cell_type": "markdown",
   "metadata": {},
   "source": [
    "> ZADATAK 2. Dohvaćanje linkova metodom `split()`"
   ]
  },
  {
   "cell_type": "code",
   "execution_count": null,
   "metadata": {},
   "outputs": [],
   "source": [
    "for redak in retci_tablice:\n",
    "    try:\n",
    "        print(redak.split(\"<td>\")[4])\n",
    "    except IndexError:\n",
    "        print(\"\")"
   ]
  },
  {
   "cell_type": "markdown",
   "metadata": {},
   "source": [
    "Kod složenijih primjera `split()` metoda brzo postaje neučinkovita. Dohvatimo linkove pomoću regularnih izraza.\n",
    "\n",
    "> ZADATAK 3. Dohvaćanje linkova korištenjem biblioteke [re](https://docs.python.org/3/library/re.html); primjer: \n",
    "\n",
    "`<a href=\"/images/nastava/izvedbeni/2023_2024/PDS/1/DINP_FIDIT_2023_2024_OPROG.pdf\" target=\"_blank\"><i class=\"fa fa-file-pdf-o\"></i></a></td>`\n",
    "\n",
    "\n",
    "\n",
    "Metode `re.search()`, `re.match()`, `re.fullmatch()`:\n",
    "- [re.match()](https://docs.python.org/3/library/re.html#re.match) checks for a match only at the beginning of the string\n",
    "- [re.search()](https://docs.python.org/3/library/re.html#re.search) checks for a match anywhere in the string (this is what Perl does by default)\n",
    "- [re.fullmatch()](https://docs.python.org/3/library/re.html#re.fullmatch) checks for entire string to be a match\n",
    "\n",
    "- [re.compile()](https://docs.python.org/3/library/re.html#re.compile) compiles regular expression\n"
   ]
  },
  {
   "cell_type": "code",
   "execution_count": null,
   "metadata": {},
   "outputs": [],
   "source": [
    "import re\n",
    "\n",
    "# Primjer na jednom stringu\n",
    "string = \"<a href=\\\"/images/nastava/izvedbeni/2023_2024/PDS/1/DINP_FIDIT_2023_2024_OPROG.pdf\\\" target=\\\"_blank\\\"><i class=\\\"fa fa-file-pdf-o\\\"></i></a></td>\"\n",
    "regex = re.compile(r\"href=\\\"([\\w\\/-_\\.]*)\\\"\")\n",
    "                     \n",
    "print(regex)\n",
    "print(re.search(regex, string))\n",
    "\n"
   ]
  },
  {
   "cell_type": "code",
   "execution_count": null,
   "metadata": {},
   "outputs": [],
   "source": [
    "# Primjer nad svi retcima tablice\n",
    "linkovi = []\n",
    "for redak in retci_tablice:\n",
    "    try:\n",
    "        linkovi.append(re.search(regex, redak).group(1))\n",
    "        print(re.search(regex, redak).group(1))\n",
    "    except AttributeError:\n",
    "        print(\"\")"
   ]
  },
  {
   "cell_type": "code",
   "execution_count": null,
   "metadata": {},
   "outputs": [],
   "source": [
    "print(linkovi)"
   ]
  },
  {
   "cell_type": "markdown",
   "metadata": {},
   "source": [
    "#### Dohvaćanje podataka pomoću biblioteke BeautifulSoup\n",
    "\n",
    "> ZADATAK 4. Dohvaćanje podataka o nazivu kolegija i nositelju pomoću html oznaka"
   ]
  },
  {
   "cell_type": "markdown",
   "metadata": {},
   "source": [
    "[BeautifulSoup4](https://www.crummy.com/software/BeautifulSoup/bs4/doc/) je Python biblioteka za dohvaćanje podataka iz HTML/XML datoteka. BeautifulSoup podržava mnogobrojne [parsere](https://www.crummy.com/software/BeautifulSoup/bs4/doc/#installing-a-parser):\n",
    "\n",
    "| Parser | Typical usage | Advantages | Disadvantages |\n",
    "| ------ | ------------- | ---------- | ------------- |\n",
    "| Python’s html.parser | `BeautifulSoup(markup, \"html.parser\")`| - Batteries included <br> - Decent speed | - Not as fast as lxml, less lenient than html5lib. |\n",
    "| [**lxml’s HTML parser**](https://lxml.de/) | `BeautifulSoup(markup, \"lxml\")` | - Very fast | - External C dependency |\n",
    "| lxml’s XML parser | `BeautifulSoup(markup, \"lxml-xml\") BeautifulSoup(markup, \"xml\")` | - Very fast <br> - The only currently supported XML parser | - External C dependency |\n",
    "| html5lib | `BeautifulSoup(markup, \"html5lib\")` | - Extremely lenient <br> - Parses pages the same way a web browser does <br> - Creates valid HTML5 | - Very slow <br> - External Python dependency |\n",
    "\n",
    "\n",
    "\n"
   ]
  },
  {
   "cell_type": "markdown",
   "metadata": {},
   "source": [
    "##### Osnovno navigiranje pomoću BS4\n",
    "\n",
    "Dohvatimo za početak stranicu s izvedbenim planovima diplomskog studija: `https://www.inf.uniri.hr/izvedbeni-programi/diplomski-studij-informatike`"
   ]
  },
  {
   "cell_type": "code",
   "execution_count": null,
   "metadata": {},
   "outputs": [],
   "source": [
    "import requests\n",
    "\n",
    "URL_DIP = \"https://www.inf.uniri.hr/izvedbeni-programi/diplomski-studij-informatike\"\n",
    "\n",
    "page_dip = requests.get(URL_DIP)\n",
    "\n",
    "print(page_dip.text)"
   ]
  },
  {
   "cell_type": "markdown",
   "metadata": {},
   "source": [
    "Stvorimo novi soup objekt pomoću BeautifulSoup konstruktora:"
   ]
  },
  {
   "cell_type": "code",
   "execution_count": null,
   "metadata": {},
   "outputs": [],
   "source": [
    "from bs4 import BeautifulSoup\n",
    "\n",
    "soup = BeautifulSoup(page_dip.text, 'html.parser')\n",
    "\n",
    "print(soup.prettify())"
   ]
  },
  {
   "cell_type": "code",
   "execution_count": null,
   "metadata": {},
   "outputs": [],
   "source": [
    "# Sadržaj pod \"title\" HTML oznakom\n",
    "print(soup.title)\n",
    "\n",
    "# Ime HTML oznake\n",
    "print(soup.title.name)\n",
    "\n",
    "# Sadržaj HTML oznake\n",
    "print(soup.title.string)\n",
    "\n",
    "# Ime \"nadređenog\" html elementa\n",
    "print(soup.title.parent.name)\n",
    "\n",
    "# Prvi element u stablu s oznakom p - paragraph\n",
    "print(soup.p)\n",
    "\n",
    "# span element unutar prvog paragrpah elementa\n",
    "print(soup.p.span)\n",
    "\n",
    "# Stil span elementa\n",
    "print(soup.p.span[\"style\"])\n",
    "\n",
    "# Prvi element s a - anchor oznakom\n",
    "print(soup.a)\n",
    "\n",
    "# Svi elemeti sa span oznakom\n",
    "print(soup.find_all('span'))\n",
    "\n",
    "# Prvi element s danim id parametrima\n",
    "soup.find(id=\"copyright-year\")\n"
   ]
  },
  {
   "cell_type": "markdown",
   "metadata": {},
   "source": [
    "> ZADATAK 5.  Pronađite element kojem je klasa \"item-294\"."
   ]
  },
  {
   "cell_type": "code",
   "execution_count": null,
   "metadata": {},
   "outputs": [],
   "source": [
    "# class je ključna riječ koja je rezervirana za definiranje klase!\n",
    "print(soup.find(class_=\"item-294\"))"
   ]
  },
  {
   "cell_type": "markdown",
   "metadata": {},
   "source": [
    "> ZADATAK 6. Pronađite sve elemente kojima je klasa \"item-N\", pri čemu je N troznamenkasti broj"
   ]
  },
  {
   "cell_type": "code",
   "execution_count": null,
   "metadata": {},
   "outputs": [],
   "source": [
    "import re\n",
    "print(soup.find_all(class_=re.compile(r\"item-[0-9]{3}\")))"
   ]
  },
  {
   "cell_type": "markdown",
   "metadata": {},
   "source": [
    "> ZADATAK 3* "
   ]
  },
  {
   "cell_type": "code",
   "execution_count": null,
   "metadata": {},
   "outputs": [],
   "source": [
    "linkovi_dip = []\n",
    "retci = soup.find_all('td')\n",
    "for r in retci:\n",
    "    try:\n",
    "        print(r.find('a')[\"href\"])\n",
    "        linkovi_dip.append(r.find('a')[\"href\"])\n",
    "    except:\n",
    "        pass"
   ]
  },
  {
   "cell_type": "markdown",
   "metadata": {},
   "source": [
    "#### Preuzimanje sadržaja (PDF)\n",
    "\n",
    "Do sada smo dohvatili sve URL-ove koji su nam interesantni (`linkovi`, `linkovi_dip`), potrebno je dostupne (.pdf) datoteke pohraniti na lokalno računalo/disk -> Ne želimo isponova dohvaćati podatke kada za to postoji potreba!\n"
   ]
  },
  {
   "cell_type": "markdown",
   "metadata": {},
   "source": [
    "> ZADATAK 7. Preuzmite PDF dokumente na lokalno računalo."
   ]
  },
  {
   "cell_type": "code",
   "execution_count": null,
   "metadata": {},
   "outputs": [],
   "source": [
    "# Spajanje listi\n",
    "pdf_url = linkovi\n",
    "pdf_url.extend(linkovi_dip)\n",
    "\n",
    "# Čišćenje duplikata - gubi se poredak\n",
    "pdf_url = list(set(pdf_url))\n",
    "\n",
    "# Zanimaju nas isključivo URL-ovi PDF-a\n",
    "pdf_url = [p for p in pdf_url if p.endswith(\".pdf\")]\n",
    "\n",
    "print(len(pdf_url))"
   ]
  },
  {
   "cell_type": "markdown",
   "metadata": {},
   "source": [
    "Primjer:"
   ]
  },
  {
   "cell_type": "code",
   "execution_count": null,
   "metadata": {},
   "outputs": [],
   "source": [
    "primjer_url = \"https://www.inf.uniri.hr\" + pdf_url[10]\n",
    "\n",
    "with open(f'./DINPovi/{primjer_url.split(\"/\")[-1]}', 'xb') as f:\n",
    "    f.write(requests.get(primjer_url).content)\n"
   ]
  },
  {
   "cell_type": "code",
   "execution_count": null,
   "metadata": {},
   "outputs": [],
   "source": [
    "from random import random\n",
    "from time import sleep\n",
    "\n",
    "# URL web sjedišta\n",
    "WEBSITE_URL = \"https://www.inf.uniri.hr\"\n",
    "\n",
    "\n",
    "for link in pdf_url:\n",
    "    sleep(random()) # Nasumični delay od 0 do 1 sekunde\n",
    "    url = WEBSITE_URL + link\n",
    "    print(url)\n",
    "    try:\n",
    "        with open(f'./DINPovi/{url.split(\"/\")[-1]}', 'xb') as f:\n",
    "            f.write(requests.get(WEBSITE_URL + link).content)\n",
    "    except FileExistsError:\n",
    "        print(\"Already downloaded\")\n"
   ]
  }
 ],
 "metadata": {
  "kernelspec": {
   "display_name": "base",
   "language": "python",
   "name": "python3"
  },
  "language_info": {
   "codemirror_mode": {
    "name": "ipython",
    "version": 3
   },
   "file_extension": ".py",
   "mimetype": "text/x-python",
   "name": "python",
   "nbconvert_exporter": "python",
   "pygments_lexer": "ipython3",
   "version": "3.8.13"
  }
 },
 "nbformat": 4,
 "nbformat_minor": 2
}

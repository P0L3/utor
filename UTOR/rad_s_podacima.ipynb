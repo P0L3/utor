{
 "cells": [
  {
   "cell_type": "markdown",
   "metadata": {},
   "source": [
    "### [Camelot]()"
   ]
  },
  {
   "cell_type": "markdown",
   "metadata": {},
   "source": [
    "Python biblioteka za izlučivanje tablica iz PDF dokumenata.\n",
    "\n",
    "\"*Sadly, a lot of today’s open data is trapped in PDF tables.*\"\n",
    "\n",
    "Radi na dva osnovna principa, koristeći ideje prikazane s pdfminer.six bibliotekom s mnoštvom heurističkih pravila za ekstrakciju ili koristeći ideje iz obrade slika pomoću OpenCV biblioteke.\n",
    "- Više o načinu rada: https://camelot-py.readthedocs.io/en/master/user/how-it-works.html"
   ]
  },
  {
   "cell_type": "markdown",
   "metadata": {},
   "source": [
    "Instalacija:"
   ]
  },
  {
   "cell_type": "code",
   "execution_count": null,
   "metadata": {},
   "outputs": [],
   "source": [
    "# !pip3 install \"camelot-py[base]\""
   ]
  },
  {
   "cell_type": "markdown",
   "metadata": {},
   "source": [
    "Import i jednostavno korištenje:"
   ]
  },
  {
   "cell_type": "code",
   "execution_count": null,
   "metadata": {},
   "outputs": [],
   "source": [
    "import camelot\n",
    "\n",
    "tables = camelot.read_pdf('/UTOR/DINPovi/DINP_FIDIT_2023_2024_PPJ.pdf', pages=\"6\")\n",
    "\n",
    "i = 0\n",
    "\n",
    "print(tables[i]) # Objekt koji odgovara prvoj tablici\n",
    "print(tables[i].parsing_report) # Evaluacija uspješnosti parsiranja tablice\n",
    "\n",
    "tablica1 = tables[i].df # Tablica u obliku Pandas DataFrame"
   ]
  },
  {
   "cell_type": "code",
   "execution_count": null,
   "metadata": {},
   "outputs": [],
   "source": [
    "tablica1"
   ]
  },
  {
   "cell_type": "markdown",
   "metadata": {},
   "source": [
    "### Kratki uvod u [Pandas](https://pandas.pydata.org/docs/user_guide/10min.html)"
   ]
  },
  {
   "cell_type": "markdown",
   "metadata": {},
   "source": [
    "Brz, pouzdan i fleksibilan alat otvorenog koda za analizu i manipulaciju podacima temeljen na programskom jeziku Python.\n",
    "\n",
    "Osnovni objekti za manipulaciju podacima: \n",
    "- [`Series`](https://pandas.pydata.org/docs/reference/api/pandas.Series.html#pandas.Series) - jednodimenzionalni objekt nalik nizu\n",
    "- [`DataFrame`](https://pandas.pydata.org/docs/reference/api/pandas.DataFrame.html#pandas.DataFrame) - dvodimenzionalna struktura podataka nalik \"tablici\" s retcima i stupcima"
   ]
  },
  {
   "cell_type": "markdown",
   "metadata": {},
   "source": [
    "Pandas cheat sheetovi: [Pandas basics](https://github.com/FavioVazquez/ds-cheatsheets/blob/master/Python/Datacamp/pandas_basics.pdf) i [Pandas](https://github.com/FavioVazquez/ds-cheatsheets/blob/master/Python/Datacamp/pandas.pdf)."
   ]
  },
  {
   "cell_type": "code",
   "execution_count": null,
   "metadata": {},
   "outputs": [],
   "source": [
    "# Ispis\n",
    "tablica1\n",
    "\n",
    "# Drugi stupac\n",
    "tablica1[1]\n",
    "\n",
    "# Dohvaćnje naziva stupaca\n",
    "tablica1.columns\n",
    "\n",
    "# Dohvaćanje prvog stupca\n",
    "tablica1[0] # Dohvaćanje po nazivu stupca\n",
    "\n",
    "# Dohvaćanje prvog retka\n",
    "tablica1.iloc[0] # Dohvaćanje po integeru\n",
    "\n",
    "# Dohvaćanje raspona od prva tri retka\n",
    "tablica1.iloc[0:3] # Ispravno\n",
    "tablica1[0:3] # Pandas interpretira oboje kao .iloc[]\n",
    "\n",
    "# Dohvaćane raspona od prva tri stupca\n",
    "tablica1.iloc[:, 0:3]\n",
    "\n",
    "# Dohvaćanje prva tri stupca prva tri retka\n",
    "tablica1.iloc[0:3, 0:3]"
   ]
  },
  {
   "cell_type": "markdown",
   "metadata": {},
   "source": [
    "Postavimo prvi redak kao zaglavlje tablice (`DataFrame` objekta)."
   ]
  },
  {
   "cell_type": "code",
   "execution_count": null,
   "metadata": {},
   "outputs": [],
   "source": [
    "# Postavljanje prvog retka kao zaglavlje DataFrame objekta\n",
    "tablica1.columns = tablica1.iloc[0]\n",
    "tablica1 = tablica1[1:]"
   ]
  },
  {
   "cell_type": "code",
   "execution_count": null,
   "metadata": {},
   "outputs": [],
   "source": [
    "# Dohvaćanje po nazivu stupca\n",
    "tablica1[\"Datum\"]\n",
    "\n",
    "# Dohvaćanje naziva stupaca\n",
    "tablica1.columns\n",
    "\n",
    "# Dohvaćanje raspona redaka za stupac Izvođač\n",
    "tablica1[\"Izvođač\"].iloc[5:10]\n",
    "\n",
    "# Uvjetno selektiranje DataFrame\n",
    "tablica1[tablica1[\"Tj.\"] == \"5.\"]\n",
    "\n",
    "# Uvjetno selektiranje Series\n",
    "tablica1[\"Izvođač\"][tablica1[\"Tj.\"] == \"5.\"]"
   ]
  },
  {
   "cell_type": "markdown",
   "metadata": {},
   "source": [
    "> Zadatak 11: Prebrojite vježbe koje održava Karlo Babić."
   ]
  },
  {
   "cell_type": "code",
   "execution_count": null,
   "metadata": {},
   "outputs": [],
   "source": [
    "tablica1[tablica1[\"Izvođač\"]==\"K. Babić\"].count()"
   ]
  },
  {
   "cell_type": "markdown",
   "metadata": {},
   "source": [
    "> Zadatak 12: Odstranite sve retke koji sadrže riječ \"kolokvij\". Pronađite prikladnu metodu koju nudi Pandas alat.\n"
   ]
  },
  {
   "cell_type": "code",
   "execution_count": null,
   "metadata": {},
   "outputs": [],
   "source": [
    "tablica1[tablica1[\"Tema\"].str.contains(\"olokvij\") != True]\n",
    "tablica1[~tablica1[\"Tema\"].str.contains(\"olokvij\")]"
   ]
  },
  {
   "cell_type": "markdown",
   "metadata": {},
   "source": [
    "> Zadatak 13: Učitajte tablicu još jednog proizvoljnog [DINP-a](https://www.inf.uniri.hr/images/nastava/izvedbeni/2023_2024/DS/1/DINP_FIDIT_2023_2024_PZUI.pdf) te ju dodajte na postojeću. (npr pomoću metode `append`) "
   ]
  },
  {
   "cell_type": "code",
   "execution_count": null,
   "metadata": {},
   "outputs": [],
   "source": [
    "tables = camelot.read_pdf('/UTOR/DINPovi/DINP_FIDIT_2023_2024_PZUI.pdf', pages=\"5\")\n",
    "i = 0\n",
    "\n",
    "print(tables[i]) # Objekt koji odgovara prvoj tablici\n",
    "print(tables[i].parsing_report) # Evaluacija uspješnosti parsiranja tablice\n",
    "\n",
    "tablica2 = tables[i].df # Tablica u obliku Pandas DataFrame"
   ]
  },
  {
   "cell_type": "markdown",
   "metadata": {},
   "source": [
    "Usporedimo li ekstrahiranu tablicu sa orginalnom tablicom iz PDF-a, primjećujemo da nam nedostaje dio redaka - sadržaj tablice prelazi na novu stranicu."
   ]
  },
  {
   "cell_type": "code",
   "execution_count": null,
   "metadata": {},
   "outputs": [],
   "source": [
    "tablica2"
   ]
  },
  {
   "cell_type": "code",
   "execution_count": null,
   "metadata": {},
   "outputs": [],
   "source": [
    "tables = camelot.read_pdf('/UTOR/DINPovi/DINP_FIDIT_2023_2024_PZUI.pdf', pages=\"5,6\")\n",
    "\n",
    "i = 0\n",
    "\n",
    "print(tables[i]) # Objekt koji odgovara prvoj tablici\n",
    "print(tables[i].parsing_report) # Evaluacija uspješnosti parsiranja tablice\n",
    "\n",
    "tablica2_1 = tables[i].df # Tablica u obliku Pandas DataFrame\n",
    "tablica2_2 = tables[i+1].df"
   ]
  },
  {
   "cell_type": "code",
   "execution_count": null,
   "metadata": {},
   "outputs": [],
   "source": [
    "tablica2 = tablica2_1.append(tablica2_2)"
   ]
  },
  {
   "cell_type": "code",
   "execution_count": null,
   "metadata": {},
   "outputs": [],
   "source": [
    "tablica2"
   ]
  },
  {
   "cell_type": "code",
   "execution_count": null,
   "metadata": {},
   "outputs": [],
   "source": [
    "# Postavljanje prvog retka kao zaglavlje DataFrame objekta\n",
    "tablica2.columns = tablica2.iloc[0]\n",
    "tablica2 = tablica2[1:]"
   ]
  },
  {
   "cell_type": "code",
   "execution_count": null,
   "metadata": {},
   "outputs": [],
   "source": [
    "# Povezivanje dvaju tablica metodom concat\n",
    "import pandas as pd\n",
    "tablica12 = pd.concat([tablica1, tablica2])"
   ]
  },
  {
   "cell_type": "code",
   "execution_count": null,
   "metadata": {},
   "outputs": [],
   "source": [
    "tablica12"
   ]
  },
  {
   "cell_type": "markdown",
   "metadata": {},
   "source": [
    "> Zadatak 14: Prebrojite koliko puta se nastava odvija na isti dan.\n"
   ]
  },
  {
   "cell_type": "markdown",
   "metadata": {},
   "source": [
    "Podaci unutar stupca `Datum` nisu konzistentni:"
   ]
  },
  {
   "cell_type": "code",
   "execution_count": null,
   "metadata": {},
   "outputs": [],
   "source": [
    "tablica12[\"Datum\"].iloc[[1, 37]]"
   ]
  },
  {
   "cell_type": "markdown",
   "metadata": {},
   "source": [
    ">> Zadatak 14.1: Napravite podatke stupca `Datum` konzistentnima korištenjem metode [`apply`](https://pandas.pydata.org/pandas-docs/stable/reference/api/pandas.DataFrame.apply.html)."
   ]
  },
  {
   "cell_type": "code",
   "execution_count": null,
   "metadata": {},
   "outputs": [],
   "source": [
    "def popravi_datum(datum):\n",
    "    if len(datum.split(\".\")) > 3:\n",
    "        return datum\n",
    "    elif len(datum.split(\".\")) < 4:\n",
    "        return datum+\"2023.\"\n",
    "\n",
    "tablica12[\"Datum\"] = tablica12[\"Datum\"].apply(popravi_datum)"
   ]
  },
  {
   "cell_type": "code",
   "execution_count": null,
   "metadata": {},
   "outputs": [],
   "source": [
    "datumi = tablica12[\"Datum\"].value_counts() \n",
    "print(len(datumi[datumi > 1]))"
   ]
  },
  {
   "cell_type": "markdown",
   "metadata": {},
   "source": [
    "> Zadatak 15: Povežite DINP tablice svih izvedbenih programa."
   ]
  },
  {
   "cell_type": "markdown",
   "metadata": {},
   "source": [
    "### Pandas i rad sa strukturama podataka"
   ]
  },
  {
   "cell_type": "markdown",
   "metadata": {},
   "source": [
    "#### Izvoz"
   ]
  },
  {
   "cell_type": "markdown",
   "metadata": {},
   "source": [
    "Pandas alat nudi mogućnost izvoza nativnih objekata (`DataFrame`, `Series`) u razne formate i strukture podataka pomoću niza metoda [`.to_<format>`](https://pandas.pydata.org/pandas-docs/stable/search.html?q=to_), u nastavku su isprobane metode: [`to_csv`](https://pandas.pydata.org/pandas-docs/stable/reference/api/pandas.DataFrame.to_csv.html#pandas.DataFrame.to_csv), [`to_json`](https://pandas.pydata.org/pandas-docs/stable/reference/api/pandas.DataFrame.to_json.html#pandas.DataFrame.to_json), [`to_xml`](https://pandas.pydata.org/pandas-docs/stable/reference/api/pandas.DataFrame.to_xml.html#pandas.DataFrame.to_xml)."
   ]
  },
  {
   "cell_type": "code",
   "execution_count": null,
   "metadata": {},
   "outputs": [],
   "source": [
    "tablica12.to_csv(\"/UTOR/EXP/tablica12.csv\")\n",
    "tablica12.to_json(\"/UTOR/EXP/tablica12.json\")\n",
    "tablica12.to_xml(\"/UTOR/EXP/tablica12.xml\")"
   ]
  },
  {
   "cell_type": "markdown",
   "metadata": {},
   "source": [
    "``` shell\n",
    "ValueError: DataFrame index must be unique for orient='columns'.\n",
    "```\n",
    "\n",
    "Neki izvozni oblici zahtjevaju jedinstvene vrijednosti indeksa, neprazne vrijednosti te isključivo alfanumeričke vrijednosti unutar naziva stupaca!"
   ]
  },
  {
   "cell_type": "code",
   "execution_count": null,
   "metadata": {},
   "outputs": [],
   "source": [
    "tablica12 = tablica12.reset_index() # Reindeksiranje\n",
    "tablica12.fillna(\"empty\", inplace=True) # Popunjavanje praznih vrijednosti\n",
    "tablica12.columns = [a.replace(\" \", \"_\").replace(\"*\", \"__\") if len(a)>1 else \"Sati\" for a in tablica12.columns] # Ispravljanje imena stupaca"
   ]
  },
  {
   "cell_type": "code",
   "execution_count": null,
   "metadata": {},
   "outputs": [],
   "source": [
    "tablica12"
   ]
  },
  {
   "cell_type": "code",
   "execution_count": null,
   "metadata": {},
   "outputs": [],
   "source": [
    "tablica12.to_csv(\"/UTOR/EXP/tablica12.csv\")\n",
    "tablica12.to_json(\"/UTOR/EXP/tablica12.json\")\n",
    "tablica12.to_xml(\"/UTOR/EXP/tablica12.xml\")"
   ]
  },
  {
   "cell_type": "markdown",
   "metadata": {},
   "source": [
    "#### Uvoz"
   ]
  },
  {
   "cell_type": "markdown",
   "metadata": {},
   "source": [
    "> Zadatak 16: Uvezite podatke iz jednog od dostupnih oblika te ih izvezite u formatu koji nije korišten na vježbama!"
   ]
  },
  {
   "cell_type": "code",
   "execution_count": null,
   "metadata": {},
   "outputs": [],
   "source": [
    "# Uvoz\n",
    "uvezena_tablica = pd.read_xml(\"/UTOR/EXP/tablica12.xml\")\n",
    "print(uvezena_tablica.head())\n",
    "\n",
    "# Izvoz\n",
    "uvezena_tablica.to_excel(\"/UTOR/EXP/tablica12.xlsx\")"
   ]
  }
 ],
 "metadata": {
  "kernelspec": {
   "display_name": "base",
   "language": "python",
   "name": "python3"
  },
  "language_info": {
   "codemirror_mode": {
    "name": "ipython",
    "version": 3
   },
   "file_extension": ".py",
   "mimetype": "text/x-python",
   "name": "python",
   "nbconvert_exporter": "python",
   "pygments_lexer": "ipython3",
   "version": "3.8.undefined"
  }
 },
 "nbformat": 4,
 "nbformat_minor": 2
}

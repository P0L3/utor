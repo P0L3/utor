{
 "cells": [
  {
   "cell_type": "markdown",
   "metadata": {},
   "source": [
    "# Prikupljanje podataka"
   ]
  },
  {
   "cell_type": "markdown",
   "metadata": {},
   "source": [
    "## [**Web scraping**](https://realpython.com/beautiful-soup-web-scraper-python/) \n",
    "\n",
    "Web scraping je proces (automatiziranog) prikupljanja podataka s interneta. Prilikom web scrapinga bitno se informirati o mogućim [ograničenjima i zabranama](https://benbernardblog.com/web-scraping-and-crawling-are-perfectly-legal-right/). Benoit Bernard navodi neke od ključnih koraka kako bismo se osigurali od kršenja prava i odredbi vezanih uz podatke koje prikupljamo:\n",
    "\n",
    "1. Koristite API ako je dostupan\n",
    "2. Poštujte uvjete pružanja usluge (*engl. Terms of Service* )\n",
    "3. Poštujte [*robots.txt*](https://www.inf.uniri.hr/robots.txt)\n",
    "4. Koristite razuman *crawl rate* - ne pretjerujte sa slanjem upita \n",
    "5. ...\n",
    "\n",
    "\n",
    "\n",
    "> *\"You write your code once, and it will get the information you want many times and from many pages.\"*\n",
    "\n",
    "\n",
    "\n",
    "\n",
    "### Istraživanje web sjedišta\n",
    "\n",
    "Kako bismo efektivno automatizirali proces prikupljanja podataka, potrebno se pobliže upoznati sa samom strukturom web sjedišta. Na ovim vježbama, zadatak nam je preuzeti sve izvedbene programe kolegija na [**Fakultetu informatike i digitalnih tehnologija**](https://www.inf.uniri.hr/). Kroz interakcije s web sjedištem pronađite stranicu na kojoj se nalaze informacije o izvedbenim programima.\n",
    "\n",
    "#### Analiza URL-a\n",
    "\n",
    "Pojedini URL-ovi otkrivaju nam korisne informacije o samom web sjedištu, npr. iz URL-a `https://www.inf.uniri.hr/nastava/izvedbeni-programi` moguće je pretpostaviti URL na kojem se nalaze izvedbeni programi prijediplomskog studija: `https://www.inf.uniri.hr/nastava/izvedbeni-programi/prijediplomski-studij`.\n",
    "\n",
    "Pogledamo li https://realpython.com/beautiful-soup-web-scraper-python/#step-1-inspect-your-data-source"
   ]
  },
  {
   "cell_type": "markdown",
   "metadata": {},
   "source": []
  },
  {
   "cell_type": "code",
   "execution_count": 3,
   "metadata": {},
   "outputs": [],
   "source": []
  }
 ],
 "metadata": {
  "kernelspec": {
   "display_name": "base",
   "language": "python",
   "name": "python3"
  },
  "language_info": {
   "codemirror_mode": {
    "name": "ipython",
    "version": 3
   },
   "file_extension": ".py",
   "mimetype": "text/x-python",
   "name": "python",
   "nbconvert_exporter": "python",
   "pygments_lexer": "ipython3",
   "version": "3.8.13"
  }
 },
 "nbformat": 4,
 "nbformat_minor": 2
}

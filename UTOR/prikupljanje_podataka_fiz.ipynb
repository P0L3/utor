{
 "cells": [
  {
   "cell_type": "markdown",
   "metadata": {},
   "source": [
    "Kod složenijih primjera `split()` metoda brzo postaje neučinkovita. Dohvatimo linkove pomoću regularnih izraza.\n",
    "\n",
    "> ZADATAK 3. Dohvaćanje linkova korištenjem biblioteke [re](https://docs.python.org/3/library/re.html); primjer: \n",
    "\n",
    "`<a href=\"/images/nastava/izvedbeni/2023_2024/PDS/1/DINP_FIDIT_2023_2024_OPROG.pdf\" target=\"_blank\"><i class=\"fa fa-file-pdf-o\"></i></a></td>`\n",
    "\n",
    "\n",
    "\n",
    "Metode `re.search()`, `re.match()`, `re.fullmatch()`:\n",
    "- [re.match()](https://docs.python.org/3/library/re.html#re.match) checks for a match only at the beginning of the string\n",
    "- [re.search()](https://docs.python.org/3/library/re.html#re.search) checks for a match anywhere in the string (this is what Perl does by default)\n",
    "- [re.fullmatch()](https://docs.python.org/3/library/re.html#re.fullmatch) checks for entire string to be a match\n",
    "\n",
    "- [re.compile()](https://docs.python.org/3/library/re.html#re.compile) compiles regular expression\n",
    "\n",
    "- [re.findall()](https://docs.python.org/3/library/re.html#re.findall) returns all non-overlapping matches of pattern in string, as a list of strings or tuples. \n"
   ]
  },
  {
   "cell_type": "markdown",
   "metadata": {},
   "source": [
    "> ZADATAK 3a Sa Wikipedia članka o metodologiji [MIRIS](https://hr.wikipedia.org/wiki/MIRIS_(ra%C4%8Dunarstvo)) saznajte:\n",
    "\n",
    ">> Koliko puta se pojavljuje riječ MIRIS?\n",
    "\n",
    ">> Koliko puta se spominje prezime koje završava na \"ić\"? Spremite rezultat u listu.\n",
    "\n",
    ">> Izlučite sve linkove sa članka."
   ]
  },
  {
   "cell_type": "code",
   "execution_count": null,
   "metadata": {},
   "outputs": [],
   "source": [
    "import requests\n",
    "\n",
    "url = \"https://hr.wikipedia.org/wiki/MIRIS_(ra%C4%8Dunarstvo)\"\n",
    "\n",
    "page = requests.get(url)\n",
    "\n",
    "print(page.text)"
   ]
  },
  {
   "cell_type": "code",
   "execution_count": null,
   "metadata": {},
   "outputs": [],
   "source": [
    "import re\n",
    "\n",
    "# Pojavljivanje riječi MIRIS\n",
    "\n",
    "result31 = re.findall(r\"MIRIS\", page.text)\n",
    "\n",
    "print(f\"Riječ MIRIS pojavljuje se: {len(result31)} puta\")"
   ]
  },
  {
   "cell_type": "code",
   "execution_count": null,
   "metadata": {},
   "outputs": [],
   "source": [
    "# Pojavljivanje ić prezimena\n",
    "\n",
    "result32 = re.findall(r\"\\s*([A-Za-zČĆŠĐŽčćšđž]+ić)[ \\.\\,]\", page.text)\n",
    "print(\"U tekstu se prezime na \\\"ić\\\" pojavljuje: {} puta\".format(len(result32)))"
   ]
  },
  {
   "cell_type": "code",
   "execution_count": null,
   "metadata": {},
   "outputs": [],
   "source": [
    "# Izlučivanje linkova\n",
    "\n",
    "regex33 = re.compile(r\"(https:\\/\\/([\\w\\d-]+\\.|[\\w\\d-]+\\/)+)\")\n",
    "result33 = re.findall(regex33, page.text)\n",
    "\n",
    "print([r[0] for r in result33])"
   ]
  },
  {
   "cell_type": "markdown",
   "metadata": {},
   "source": [
    "Izlučivanje informacija relativno je komplesan zadatak, posebice kada govorimo o ciljevima kao što su URL, adresa e-pošte ili imena osoba."
   ]
  },
  {
   "cell_type": "markdown",
   "metadata": {},
   "source": [
    "#### Preuzimanje izvedbenih planova Fakulteta za Fiziku "
   ]
  },
  {
   "cell_type": "markdown",
   "metadata": {},
   "source": [
    "Preuzmimo izvedbene programe [Fakulteta za Fiziku](https://www.phy.uniri.hr/hr/)."
   ]
  },
  {
   "cell_type": "markdown",
   "metadata": {},
   "source": [
    "Svi izvedbeni programi nalaze se na stranici: https://www.phy.uniri.hr/hr/nastava/izvedbeni-planovi.html ."
   ]
  },
  {
   "cell_type": "code",
   "execution_count": null,
   "metadata": {},
   "outputs": [],
   "source": [
    "import requests\n",
    "\n",
    "URL_DINP = \"https://www.phy.uniri.hr/hr/nastava/izvedbeni-planovi.html\"\n",
    "\n",
    "page_dinp = requests.get(URL_DINP)\n",
    "\n",
    "print(page_dinp.text)"
   ]
  },
  {
   "cell_type": "markdown",
   "metadata": {},
   "source": [
    "Razlomimo tablicu na retke pomoću `.split(\"<tr>\")` te pronađimo sve `href` vrijednosti."
   ]
  },
  {
   "cell_type": "code",
   "execution_count": null,
   "metadata": {},
   "outputs": [],
   "source": [
    "# Primjer nad svi retcima tablice\n",
    "retci_tablice = page_dinp.text.split(\"<tr>\")\n",
    "regex = re.compile(r\"href=\\\"([\\w\\/ -_\\.]*)\\\"\")\n",
    "\n",
    "\n",
    "linkovi = []\n",
    "for redak in retci_tablice:\n",
    "    try:\n",
    "        linkovi.append(re.search(regex, redak).group(1))\n",
    "        print(re.search(regex, redak).group(1))\n",
    "    except AttributeError:\n",
    "        print(\"\")"
   ]
  },
  {
   "cell_type": "code",
   "execution_count": null,
   "metadata": {},
   "outputs": [],
   "source": [
    "linkovi"
   ]
  },
  {
   "cell_type": "markdown",
   "metadata": {},
   "source": [
    "#### Dohvaćanje podataka pomoću biblioteke BeautifulSoup"
   ]
  },
  {
   "cell_type": "markdown",
   "metadata": {},
   "source": [
    "> ZADATAK 4. Dohvaćanje podataka o nazivu kolegija i nositelju pomoću html oznaka"
   ]
  },
  {
   "cell_type": "markdown",
   "metadata": {},
   "source": [
    "[BeautifulSoup4](https://www.crummy.com/software/BeautifulSoup/bs4/doc/) je Python biblioteka za dohvaćanje podataka iz HTML/XML datoteka. BeautifulSoup podržava mnogobrojne [parsere](https://www.crummy.com/software/BeautifulSoup/bs4/doc/#installing-a-parser):\n",
    "\n",
    "| Parser | Typical usage | Advantages | Disadvantages |\n",
    "| ------ | ------------- | ---------- | ------------- |\n",
    "| Python’s html.parser | `BeautifulSoup(markup, \"html.parser\")`| - Batteries included <br> - Decent speed | - Not as fast as lxml, less lenient than html5lib. |\n",
    "| [**lxml’s HTML parser**](https://lxml.de/) | `BeautifulSoup(markup, \"lxml\")` | - Very fast | - External C dependency |\n",
    "| lxml’s XML parser | `BeautifulSoup(markup, \"lxml-xml\") BeautifulSoup(markup, \"xml\")` | - Very fast <br> - The only currently supported XML parser | - External C dependency |\n",
    "| html5lib | `BeautifulSoup(markup, \"html5lib\")` | - Extremely lenient <br> - Parses pages the same way a web browser does <br> - Creates valid HTML5 | - Very slow <br> - External Python dependency |\n",
    "\n",
    "\n",
    "\n"
   ]
  },
  {
   "cell_type": "markdown",
   "metadata": {},
   "source": [
    "##### Osnovno navigiranje pomoću BS4\n",
    "\n",
    "\n",
    "Dohvatimo za početak stranicu s izvedbenim planovima diplomskog studija: `https://www.phy.uniri.hr/hr/nastava/izvedbeni-planovi.html`"
   ]
  },
  {
   "cell_type": "code",
   "execution_count": null,
   "metadata": {},
   "outputs": [],
   "source": [
    "URL_DINP = \"https://www.phy.uniri.hr/hr/nastava/izvedbeni-planovi.html\"\n",
    "\n",
    "page_dinp = requests.get(URL_DINP)\n",
    "\n",
    "print(page_dinp.text)"
   ]
  },
  {
   "cell_type": "markdown",
   "metadata": {},
   "source": [
    "Stvorimo novi soup objekt pomoću BeautifulSoup konstruktora:"
   ]
  },
  {
   "cell_type": "code",
   "execution_count": null,
   "metadata": {},
   "outputs": [],
   "source": [
    "from bs4 import BeautifulSoup\n",
    "\n",
    "soup = BeautifulSoup(page_dinp.text, 'html.parser')\n",
    "\n",
    "print(soup.prettify())"
   ]
  },
  {
   "cell_type": "code",
   "execution_count": null,
   "metadata": {},
   "outputs": [],
   "source": [
    "# Sadržaj pod \"title\" HTML oznakom\n",
    "print(soup.title)\n",
    "\n",
    "# Ime HTML oznake\n",
    "print(soup.title.name)\n",
    "\n",
    "# Sadržaj HTML oznake\n",
    "print(soup.title.string)\n",
    "\n",
    "# Ime \"nadređenog\" html elementa\n",
    "print(soup.title.parent.name)\n",
    "\n",
    "# Prvi element u stablu s oznakom p - paragraph\n",
    "print(soup.p)\n",
    "\n",
    "# a element unutar prvog paragrpah elementa\n",
    "print(soup.p.img)\n",
    "\n",
    "# Stil span elementa\n",
    "print(soup.p.img[\"style\"])\n",
    "\n",
    "# Prvi element s a - anchor oznakom\n",
    "print(soup.a)\n",
    "\n",
    "# Svi elemeti sa span oznakom\n",
    "print(soup.find_all('span'))\n",
    "\n",
    "# Prvi element s danim id parametrima\n",
    "soup.find(id=\"current\")"
   ]
  },
  {
   "cell_type": "markdown",
   "metadata": {},
   "source": [
    "> ZADATAK 5.  Pronađite element kojem je klasa \"item111\"."
   ]
  },
  {
   "cell_type": "code",
   "execution_count": null,
   "metadata": {},
   "outputs": [],
   "source": [
    "# class je ključna riječ koja je rezervirana za definiranje klase!\n",
    "print(soup.find(class_=\"item111\"))"
   ]
  },
  {
   "cell_type": "markdown",
   "metadata": {},
   "source": [
    "> ZADATAK 6. Pronađite sve elemente kojima je klasa \"itemN\", pri čemu je N troznamenkasti broj"
   ]
  },
  {
   "cell_type": "code",
   "execution_count": null,
   "metadata": {},
   "outputs": [],
   "source": [
    "import re\n",
    "print(soup.find_all(class_=re.compile(r\"item[0-9]{3}\")))"
   ]
  },
  {
   "cell_type": "markdown",
   "metadata": {},
   "source": [
    "> ZADATAK 3* "
   ]
  },
  {
   "cell_type": "code",
   "execution_count": null,
   "metadata": {},
   "outputs": [],
   "source": [
    "linkovi = []\n",
    "retci = soup.find_all('td')\n",
    "for r in retci:\n",
    "    try:\n",
    "        print(r.find('a')[\"href\"])\n",
    "        linkovi.append(r.find('a')[\"href\"])\n",
    "    except:\n",
    "        pass"
   ]
  },
  {
   "cell_type": "markdown",
   "metadata": {},
   "source": [
    "#### Preuzimanje sadržaja (PDF)\n",
    "\n",
    "Do sada smo dohvatili sve URL-ove koji su nam interesantni (`linkovi`), potrebno je dostupne (.pdf) datoteke pohraniti na lokalno računalo/disk -> Ne želimo isponova dohvaćati podatke kada za to postoji potreba!\n"
   ]
  },
  {
   "cell_type": "markdown",
   "metadata": {},
   "source": [
    "> ZADATAK 7. Preuzmite PDF dokumente na lokalno računalo."
   ]
  },
  {
   "cell_type": "code",
   "execution_count": null,
   "metadata": {},
   "outputs": [],
   "source": [
    "# Spajanje listi\n",
    "pdf_url = linkovi\n",
    "\n",
    "# Čišćenje duplikata - gubi se poredak\n",
    "pdf_url = list(set(pdf_url))\n",
    "\n",
    "# Zanimaju nas isključivo URL-ovi PDF-a\n",
    "pdf_url = [p for p in pdf_url if p.endswith(\".pdf\")]\n",
    "\n",
    "print(len(pdf_url))\n",
    "print(pdf_url[1:6])"
   ]
  },
  {
   "cell_type": "markdown",
   "metadata": {},
   "source": [
    "Primjer:"
   ]
  },
  {
   "cell_type": "code",
   "execution_count": null,
   "metadata": {},
   "outputs": [],
   "source": [
    "primjer_url = \"https://www.phy.uniri.hr/\" + pdf_url[10]\n",
    "\n",
    "with open(f'./DINPovi/{primjer_url.split(\"/\")[-1]}', 'xb') as f:\n",
    "    f.write(requests.get(primjer_url).content)"
   ]
  },
  {
   "cell_type": "code",
   "execution_count": null,
   "metadata": {},
   "outputs": [],
   "source": [
    "from random import random\n",
    "from time import sleep\n",
    "\n",
    "# URL web sjedišta\n",
    "WEBSITE_URL = \"https://www.phy.uniri.hr/\"\n",
    "\n",
    "\n",
    "for link in pdf_url:\n",
    "    sleep(random()) # Nasumični delay od 0 do 1 sekunde\n",
    "    url = WEBSITE_URL + link\n",
    "    print(url)\n",
    "    try:\n",
    "        with open(f'./DINPovi/{url.split(\"/\")[-1]}', 'xb') as f:\n",
    "            f.write(requests.get(WEBSITE_URL + link).content)\n",
    "    except FileExistsError:\n",
    "        print(\"Already downloaded\")"
   ]
  }
 ],
 "metadata": {
  "kernelspec": {
   "display_name": "Python 3",
   "language": "python",
   "name": "python3"
  },
  "language_info": {
   "codemirror_mode": {
    "name": "ipython",
    "version": 3
   },
   "file_extension": ".py",
   "mimetype": "text/x-python",
   "name": "python",
   "nbconvert_exporter": "python",
   "pygments_lexer": "ipython3",
   "version": "3.10.12"
  }
 },
 "nbformat": 4,
 "nbformat_minor": 2
}

{
 "cells": [
  {
   "cell_type": "markdown",
   "metadata": {},
   "source": [
    "# Dohvaćanje podataka iz PDF-a"
   ]
  },
  {
   "cell_type": "markdown",
   "metadata": {},
   "source": [
    "## PDF  \n"
   ]
  },
  {
   "cell_type": "markdown",
   "metadata": {},
   "source": [
    "[PDF (portable document format)](https://opensource.adobe.com/dc-acrobat-sdk-docs/pdfstandards/pdfreference1.7old.pdf) je proširivi protokol za opis stranica koji implementira nativni datotečni format Adobe Acrobat (komercijalnih) proizvoda. PDF operatori za uređivanje grafičkih stanja i prikaz grafičkih objekata (tekst, slike, ...) vrlo su slični odgovarajućim operatorima [PostScript jezika](https://www.ibm.com/docs/en/aix/7.2?topic=configuration-postscript-printers) na kojem je PDF temeljen. \n",
    "\n",
    "- [Intro to PDF format](http://preserve.mactech.com/articles/mactech/Vol.15/15.09/PDFIntro/index.html) - dodatni izvor\n",
    "- [PostScript tutorial](https://paulbourke.net/dataformats/postscript/) - dodatni izvor\n",
    "\n"
   ]
  },
  {
   "cell_type": "markdown",
   "metadata": {},
   "source": [
    "``` bash\n",
    "%PDF-1.6\n",
    "%äüöß\n",
    "2 0 obj\n",
    "<</Length 3 0 R/Filter/FlateDecode>>\n",
    "stream\n",
    "x\\9C\\ADZɎ\\EB\\B6\u0012\\DD\\F7Wx\u001d\\A0\\FDȒHQ@À\\D5\\EE\\BB\\C8.@\u0003o\u0011d\\97a\u0017 \\D9\\E4\\F7C\\D6@VQ\\B4\\ECN\\82\u000b\\F4\\95%q\\A8\\E9ԩ\\A2\\DCٟ\\FEz\\F9\\E3\\E4N\\EE\\EC \\9D\\C2\u001aΰ\\84S\\9A\\FD9E\\FA\\F3\\97\\97\\FFw\\FA\\9D\\DE\\C8\\FF\\FE\\FC\\EDe\\FB|\\F1\\D3r\\9EN\\CB\u001c\\CF)\\AD\\A7ϟO\\FF\\FB\\E6Oy\\F4\\E7\\AF?\\BE9\\99⛃\u000b\\BC\\B9\\C9͗W\\FF悋n\\C1\\ABD\u000fV\\FCq\\BD\\E4?[\\BES~\\BC\\BB\\9B\\FBp\\DF\\F2\\BB\\C9;\\EF/?}~\\FF\\F2\\F1\\F9\\F2C\\B7t\\C8k\\9E\u0016\\E7\\DA\\CAp\\F2\\C0+;\\C0%iŲΒ\u0017\\\\CB\u0005-uyMeS\\EF\\97\\D7|\u000b߻Շ@7\\F0\\FA\\E3\\F2\\BA\\94\u0017\\BF\\E5\\A7\\DE\\E5\\8B%o\b\\F7JC\\AF\\FA\\C7$Ϯ\\97\\D7XN\\B8\\AE\\87\\BC\\85+\\FD\u000e~\\CA\u000f缵,}x\\A3}\\D1>}\u0016:\\BFxg\u001d\\DE5\\CE\u0017\\E9\u0005\\9A\\81\\97\u0002\\FC\\CF/\\B4\\9E\u001a9\\F9D\u0017\\F4:\\EF\u001a\u0015\\83r\u0003\\8A\\89\\974j\\AD\\8Ff\\92E\\94\tM\\8B~\\A5\\9D\\84C\u000b\\C5\u0014\\CEng\\A1\\AC\\81\\8D\\B6\\C1\\FB\\C3=\\B3\u0010W\\97\\CA~H\\98+\\BD\\C1\u001a\\E6\\ED\\E2\\80\"\t\\FF\\C4\\ED\\F8^G\\F44\\D6\\FDn\\FE\\DD\\DF\\FC\u0007\\BDq\\F1y\u00054k\u0014}\\F0V\\AC\u0011\\95\u001a\\C1\\F1\\9B\\A2fT=8\u0019qk2\\D0\\FAy\\A8w\\D5\\E2O9\u0011x\f\u0017\\A0Px\\CA\\ED>xj\\98\\F0\\A7\\8C9\\B6J\\\\CF~\u001f7\\8F\\96\\99\\AB\\9E\u0001}\\81=\u0004ofm\\A1\u0015\\AB\\A00\\FB\u001b\u0004\\B6\\C7؟ӛ\\9A<j\\8B\\B2\\E9\\F2\\9D\\E6\\D3_\\98\\B9M+N\\95\\F2\\E5U\u0002|oƲ\u001eDqH\\9F\\BE\u0014\\F70\\C3\\F2\u0005݇\\E9<}I\\F7\u0010\\FC\\F6\\F4f\\8C\\91\n",
    "\\CC\b\u001a\\8D\\A4W\\D1\\CC\"\\FB\\D9C\\83\\AE\\F1J\\BB\\B9\\8A)\\D4|\u0001\\DF)!\u001eت2a\\BE\u0019\u0018yL\u0010\\E5\tyC\\D1\u001a\u001eg\"\\F0\\F2\\93q\\8E\\8C\u0013l\\A4U\\A2\u0018\\E5<\\D6}\\CEW\\F3^\\F7\\EF\\97X\u0010\u0013\b\u001figk\\8D[;\u000fU\n",
    "\\A6\b/X\u0003\\A4\\F9{J\\F4\\A9X\\B4\\C7 \u000fl\\83\n",
    "Ae<$\u001c\\86\\E8 \\84g񓙷\\EAX\\ED\\9Bv\\81\\E6h\\A9\\8D\u0006\\BD׹\\95BI\\EC\\87\\E9\\F3X\\D3\\E0\\CFq\\8F\\FBw\\95';\\F2\\DB\\E1\\B4a\t\\E7u7m\\86\\BE\\80\\EE\\CE1r\b\n",
    "9\\\tNة8\\89\\95!d;\u001f\u0004̯Y}xOx@?\\92\\B1%i\\92/'Y\tA\\C5\u00116\\AA\\8C\u0014p\\A7*\\F1J2\\AC\tF'\\9DP\u001f\\93\\B2R\\9F\u000b\\C96\\B8t\\97\\9Ci;\u0012\\87 \\CE˂7\\89\\9B\\D3*\u0001qg\\F4\\F8\\D8\"\\D1\n",
    "\u0012\\BCrZ\\F1\\C3 >T0\u0006\n",
    "S<\f\\D6\\C6=\\8AKLD\\80`\\96a\\C2J(\\93*\\8E»\\DE\\\\92\\CC-\\8E?\\B2Ju\\86\\96t,Ěd\\C1f\\C1\\98\\C9\u001aO\\BB\\B8\\A9\bi<\\A2\\AC\\D4-\u000eOz\u0004\\AF(\\FC\\E6\\C8#<KT\\95\\FB\\C8B\\F3|\\86}(\\A6\\BC\\EC@\"&\\A6\\D0\\F1R\\F4\\96\\FB\\DCt\\82b:\\90\\A1\u0013\\8BX=k\\F1E\\8F\\81\\DDB\"5\\FF\\99½Hek\\B2\\D7\\E7\\F1\u0011\\F1\\8B\\A6\u001d[3\\83\u0007\\AAqG\\EE&\\E6\\C6\\C2\u0006q\u0012؄Ol\\BDg\u0005\\AFbI\\8Cs\\ACdH\\83\\AC^\\\\920\u000f\u0003O\\E4\\AFP-ɖ\\84\\82\\AC\\E0JW\\D9[Dbx\u0017\\B4\\\\C4m8\\84[\\E5\\B2]f\\AFH\\8F\\C5\t\\92\\A1Ɍ\u001c\n",
    "%\\A7\\A0\\A1\\B7\\83\\DA\\00\\FBguj\\ED,j\u001eX\\CB<U\\F5\u0010\\8A\\EAc\\A2$\\E8ɉ\u0003\\A7\\AF\\CA1T\\FCs\u0018\\B3\u0016\\F8^\\9F\\91\\CA\u0016\\8F\\F5\\EF\\E1\u001c\\F6\\FA\\BF\n",
    ":\\94\u0014\\DFe\\BB\\8A\\EA6Q>\\93B\\8C\\B7\\A8\\AAk`e\\B5\u0006\"\\EC\\D2\\EA\\9E,'\u000ffv!\b?\\99\\E2\u000e_\\A3\\99\\F3\\DCk\u001bQS\\82\u0005\u000f\\9D\u0010\\98\\D9`\f\\CF\\EC\\8B\u0015M\\99\\A20n2\\88\\B2\\BEjQ̳7\\80.q\\98%<2Ƽ\\C6A\\F2W:\u0018\\86{\u0015\\88\teu\\F4\\BEh7\"a\\A9\\B8Ts(^\\B5,Tv\\93\u000bWZ\\DC,%\u0014\\AA(\\D8Z\\F4f\n",
    "\u0007\\8B\n",
    "P\u000b\\F7I\\C5\u0005\f\\E0\\FC>\\D3c@*\u000eߦЀĲ\u001e\\81\u0012\\E7\\A7f-\\E5o\u001a`\\8E-\\95\\86\n",
    "\\94`bb\\B3\\F0#\\F5\\92\u0010r[r5\n",
    "\\EB\\EEA\\90\\A9na3\\BAf\u001d\\98b\\B6\\A0K\\AF\\C3\u000e\\C1\u0019\\85T\u000e\u001a\\D3.߲\\8ATE\\B6\\F0\\00\\DBH\\A0P\\FFSN\\FA\\A6;q\\A7\\96:\\D6\\9CG|\\F6F|6\\B1\u0019z\fi\\EB\\E9\\F2\\96E\\CBZ\\A8\\88\\8A~Bq\\B1\\B4\\9A\\AA\u000e\\F4s\\8B\\9Eʡt\\D5fy\\B2☖+V\\A4ڳ>\\E2\u0013\\89\\8D\\BB\\FA\n",
    "\\A4\n",
    "s\\A8\u0016\\BF\u000e(˗\\DBp\u0015Ъ'\\F0\\9BϷ\\BE\\E0\\A31\\E4\\AEL\u001b\\D2Ö\\CDm\\B2\\D1J\\96\\D2jk\\E1[7x\\8F^\n",
    "\\F9\\B4\\E2\\E8:\\D3Qa\u0017\\85\\84\\E7\\85\u0010\\E1\u001e'\\D1\\D9M\\83\\F2\\F8\u000b\\E9\u001a\u001b9:\\D8\u0015\\88?j\\D3Ig\\B2\\8Fu\\83\\81\\BB\u001fb^\\DBN\u0010R\\F3\\B0\\86}\\\\90\"\\9F\\9AUJ\\FD'Nh\\92\u0006R\\91\\C4iI\\81F\\DB\\F7\\A1\\91\\A6\\B4\\8C\\98Nd\\F2\\D8Z?O\\F6T\u0019\\E2\\A2\\EA\\E6E\\DCq\\E5)\\95`pmSCKڰ\\q\\A2=jqM\\F8:תO{\u0001\\B8\u0016v#4*\\B8Yq\\AB\\A3T\\ADī,\\B5D\\83\u0014\\C6BDs\\92\\89\\8A\\CFRL\\DE\u001b\\86t(\\AF\u0011:=<A\\FC\\A7ş\\97=T\\99.\\DC8\\A6\\F9\u001e\\89\\AD\\AA\\B9M\u001e\b\\CE\u001c\\F5\\DE\u000bQ\\FA\\87\\CDt`\\FA\\B7etڊ\\9B\\C37\\EE\u0010\\E5\\88F+]'wY\\977\u0006p\u001e\\BD\\C15\\E7\\A7WY\\E2\\BD]\\AA\u000en\\9Em\\F26\\99\\AAd\\92M\\B3T\\AA`z\\A7\\A5\\DD\\C1g\u001bR\\FBN\n",
    "\\C6Z\\B5\\F7\\C4\\C9\\C3\u0014\\DA4\\C3\u0018\\F2\\B9H[T:\\945[\\D6\\F3 r!l\\8EM\\90]%\\EB\u000f\\F2Uh8fJ\\A5\\82c\\F9\\BD\\BA\\DBh\\80\\E7\\C0\\83\\C7!y\\:\\D9n\\8A\\90\u001ch\u0004\\8D\\9C\\C2\u0004r\"\\8B\\AC\\CDj\\8B\\89ݡ\\D7\n",
    "\\F6\\B6\u0016.0u\u0017{=S-O\\F3\\A8iԠ\\00\u001d\\906\\C1\\EE\\BE`\\00X\\AAݟ\u000e(IL\\9D\\CFq\\ADwg\\F3\\F9(}\u0012\\8A\\CF\\D2~\\E0z!\\FBm9G\\9A\\E6\u0007\u0004\u0006\\D6y\\D4\u000e0%\\00\\83^\u00067\\D7T\\8E\\F4K\\9CQ\\FB\\95\\D1~;P\\C2\\F4亓\\8EZX\\F6\\87\\91\\B3\\F8\u001bf:9\\B2\\B1\\FDd\\AC\\AF\\A2\\CE_\\83\\B3\u0001\u0019\\A7\\AA\\CC(E\\81j\\A8\\CA\\F8F\\91\\EE{\\96>h\\E2T1W\\E3&\\9F\\BA\\9E\\C0\\B1\\FA\\974\\EA\\F3\\8F\\EA%\\ED\u0016\\8A\\C6\u001dm\u0011#۴3\\D5q3\\D88\\B0\\F5\\C7\u0013\u001d\u0007ۨ\\F2\\8DIZ\\BA/\u000e\\BAk\\F6\\93\\B5\\DB9K\\F5\\96N \\D5q\\A5K\\CE\\C9:ľX\\CC@\\84A\\D9?\\C5R\\CC\u0004)x\u0019\\88\\B2\\93޸\u0017(UN\\E7\\C4\u0012\\F9s;ZL>\\D98\\B0Rk\\82)ĳ\\9Dw\\D7\\E6Xc\\E2&\\D6\u000b\\C4\u0018\\9A\\91\\B5\\96\u0004Z\u0016KՍ\\EBX\\D7>\\C4\\F5\\B9ڋ\\84\\D3=\\00\u000b\\BE\\9C9jZ\\AA\\85\u001b\\E6A\u001f\u001fe?\\98㈖\\FC\\EB\b(g\\91T\\C0=\\D7*\u001b\\9FJ\\C6jg\\CB\u0016}O`HTa\u001e\\BC\\92T\\B6r_>\\A9x\\92\\F7\\D8#\\E1Z\\FEK\\F2\\B6b\\D8\\CF-\\9E\\C9m0\\B9AI\\FF_a\\8F\\D3\u0001\\FF\\E5\\C6z\\ADFK\u000e\\9B\\EA\\B7\u0010Գ\\AD\\9D\\86\\BB\u0015\\97\\9Ci6c&ˢ\\BAx|P*\\A9\\EEʛ.\\87d餻j5٨c\u000f1\\8Bm\\CC4*\\FC\u0010\\B0\\FC\\F0\\E3\\94J\\DB-\\DD\\00\\F1@\u0016\\96\\93\\D4\u000e\\9Dw\\E6$\\FC\\ED\u001a\\ECO\\B5\\9FDq\\ED<\\86U'\\E5\\F5\\A0\\83ۊ\\DEJGo\\8D\\E75Y\\EC\u0001z\\E9\\E8\b\\EDTkNzl\\AFo\\\u0016[;X\\B3\\87$m\\BB\\A7\\CEw\u001eչ~\u001d\\F5\\80z\\93\\D7\\E3\\F6;}k1\u0001\\B60\"y\\CC\u000fM\\CF݈m\u0003\\A2w2\\95H\\89V\u001b\\C2N\\D5~h\\EC\\95\\F3\u0010\\D7>#jz\\E0\\E0%\\8Bvdm\\E7\\F1\\96\\\\8CO|\\87'\\A4\\E6\\F8\\00\u001e\\C1\\9CO\\C3\\CFX\\EEv\\E7\\ED\\D7\u0014\\BA;\\DB{\\B9\\FAD\n",
    "\\F4\\E7\\00?\\9C\\FE\u0006Ql\\AD\\B8\n",
    "endstream\n",
    "endobj\n",
    "```"
   ]
  },
  {
   "cell_type": "markdown",
   "metadata": {},
   "source": [
    "## PDF parseri"
   ]
  },
  {
   "cell_type": "markdown",
   "metadata": {},
   "source": [
    "Na sreću postoje gotovi alati za analizu i parsiranje PDF dokumenata u svrhu izlučivanja informacija (teksta, slika, ...), kao što su: [PyMuPDF](https://pymupdf.readthedocs.io/en/latest/), [pypdf](https://pypdf.readthedocs.io/en/stable/), [PyPDF2](https://pypdf2.readthedocs.io/en/3.x/), [pdfplumber](https://github.com/jsvine/pdfplumber) te [**pdfminer.six**](https://pdfminersix.readthedocs.io/en/latest/) kojeg ćemo koristiti na vježbama. Uz postojeće alate temeljene isključivo na jednostavnim i/ili heurističkim pravilima postoje i alati koji informacije iz PDF dokumenata izlučuju pomoću naprednih metoda iz područja strojnog učenja, kao što je: [GROBID](https://github.com/kermitt2/grobid) ili [unstrutured](https://github.com/Unstructured-IO/unstructured)."
   ]
  },
  {
   "cell_type": "markdown",
   "metadata": {},
   "source": [
    "### [pdfminer.six](https://pdfminersix.readthedocs.io/en/latest/index.html)"
   ]
  },
  {
   "cell_type": "markdown",
   "metadata": {},
   "source": [
    "#### Primjeri sa sirovim tekstom"
   ]
  },
  {
   "cell_type": "markdown",
   "metadata": {},
   "source": [
    "Pomoću metode `extract_text()` biblioteke *pdfminer* možemo jednostavno izlučiti tekstove iz PDF dokumenata jednostavne strukture:"
   ]
  },
  {
   "cell_type": "code",
   "execution_count": null,
   "metadata": {},
   "outputs": [],
   "source": [
    "from pdfminer.high_level import extract_text\n",
    "\n",
    "text = extract_text(\"/UTOR/simple_pdfsample.pdf\")\n",
    "\n",
    "print(text)"
   ]
  },
  {
   "cell_type": "markdown",
   "metadata": {},
   "source": [
    "> Zadatak 1. Izlučite naslov iz dokumenta. "
   ]
  },
  {
   "cell_type": "markdown",
   "metadata": {},
   "source": [
    "Kod jednostavnih primjera kao [simple_pdfsample.pdf](/UTOR/simple_pdfsample.pdf) (naslov i niz paragrafa) tekst možemo izlučiti bez većih problema. I na jednostavnom primjeru uočavamo problem, ukoliko želimo izlučiti isključivo naslov, iz sirovog teksta nemamo dovoljno informacija za razlikovati odlomak od naslova ili podnaslova (u danom jednostavnom primjeru se možemo osloniti na pretpostavku da je naslov teksta prva linija teksta unutar dokumenta). "
   ]
  },
  {
   "cell_type": "code",
   "execution_count": null,
   "metadata": {},
   "outputs": [],
   "source": [
    "text_2 = extract_text(\"/UTOR/littlebitlesssimple_pdfsample.pdf\")\n",
    "\n",
    "print(text_2)"
   ]
  },
  {
   "cell_type": "markdown",
   "metadata": {},
   "source": [
    "> Zadatak 2. Izlučite naslove i podnaslove iz teksta."
   ]
  },
  {
   "cell_type": "markdown",
   "metadata": {},
   "source": [
    "Kod složenijih primjera kao [littlebitlesssimple_pdfsample.pdf](/UTOR/littlebitlesssimple_pdfsample.pdf) vidljivo je da sirovi tekst ne daje dovoljno informacija da zaključimo strukturu samog dokumenta! Na sreću, pdfminer.six nudi mnoga [svojstva](https://pdfminersix.readthedocs.io/en/latest/index.html#features) koja nam omogućuju izlučivanje strukture PDF dokumenata:\n",
    "1. Parsiranje svih objekata iz PDF dokumenta u Python objekte\n",
    "2. Analiziranje i grupiranje teksta s obzirom na poziciju\n",
    "3. Izlučivanje teksta, slika, sadržaja ...\n",
    "4. ...\n"
   ]
  },
  {
   "cell_type": "markdown",
   "metadata": {},
   "source": [
    "#### [Layout analysis algorithm](https://pdfminersix.readthedocs.io/en/latest/topic/converting_pdf_to_text.html#layout-analysis-algorithm)"
   ]
  },
  {
   "cell_type": "markdown",
   "metadata": {},
   "source": [
    "PDF dokumenti naizgled sadrže strukturirani tekst, međutim, unutar PDF datoteke ne postoje informacije o pojedinom paragrafu, rečenici ili riječi. Kada pričamo o tekstu, većina PDF datoteka sadrži isključivo informaciju o \"poziciji\" pojedinog znaka na stranici.\n",
    "\n",
    "Pdf dokument sastoji se od kolekcije objekata koji zajedno opisuju izgled jedne ili više stranica.\n",
    "\n",
    "Pomoću Layout algoritma, biblioteka *pdfminer.six* heurističkim zaključcima na temelju pozicija pojedinih znakova pokušava rekonstruirati strukturu samog dokumenta. Layout algoritam sastoji se od 3 osnovna koraka: \n",
    "1. Grupiranje znakova u riječi i linije\n",
    "2. Grupiranje linija (teksta) u okvire teksta (~paragraf)\n",
    "3. Grupiranje tekstualnih okvira s obzirom na hijerarhiju"
   ]
  },
  {
   "cell_type": "markdown",
   "metadata": {},
   "source": [
    "![](./Images/layout_analysis_output.png)"
   ]
  },
  {
   "cell_type": "markdown",
   "metadata": {},
   "source": [
    "Heurističke odluke ovise o nizu parametara podesivih pomoću klase [`LAParams()`](https://pdfminersix.readthedocs.io/en/latest/reference/composable.html):\n",
    "\n",
    "1. korak*: \n",
    "\n",
    "`char_margin` - Koliko **horizontalno** blizu moraju biti znakovi da spadaju pod jednu riječ\n",
    "\n",
    "`line_overlap` - Koliko **vertikalno** blizu moraju biti znakovi da spadaju pod jednu riječ\n",
    "\n",
    "\n",
    "`word_margin` - Koliko **horizontalno** udaljeni moraju biti znakovi da bi se umetnuo prazan znak\n",
    "\n",
    "\n",
    "2. korak*:\n",
    "\n",
    "`line_margin` - Koliko **vertikalno** blizu linije trebaju biti da bi spadale u isti tekstualni okvir\n",
    "\n",
    "3. korak*:\n",
    "\n",
    "\n",
    "> POZOR: Ovo je pojednostavljeni prikaz bitnih parametara, preporuča se detaljno proučavanje dokumentacije: https://pdfminersix.readthedocs.io/en/latest/topic/converting_pdf_to_text.html#layout-analysis-algorithm\n"
   ]
  },
  {
   "cell_type": "markdown",
   "metadata": {},
   "source": [
    "#### Prvi primjer s Layout analysis algoritmom"
   ]
  },
  {
   "cell_type": "markdown",
   "metadata": {},
   "source": [
    "> Zadatak 3. Iskoristite funkciju [`extract_text_to_fp()`](https://pdfminersix.readthedocs.io/en/latest/reference/highlevel.html#extract-text-to-fp) kako biste iz PDF datoteke dobili HTML dokument sa strukturnim karakteristikama."
   ]
  },
  {
   "cell_type": "code",
   "execution_count": null,
   "metadata": {},
   "outputs": [],
   "source": [
    "from io import StringIO # Za tretiranje in memory objekata kao datoteka\n",
    "from pdfminer.high_level import extract_text_to_fp\n",
    "from pdfminer.layout import LAParams # Podešavanje parametara\n",
    "output_string = StringIO()\n",
    "\n",
    "with open('./littlebitlesssimple_pdfsample.pdf', 'rb') as fin:\n",
    "    extract_text_to_fp(\n",
    "        fin,\n",
    "        output_string,\n",
    "        laparams=LAParams(),\n",
    "        output_type='html',\n",
    "        codec=None,\n",
    "    )\n",
    "\n",
    "print(output_string.getvalue())"
   ]
  },
  {
   "cell_type": "markdown",
   "metadata": {},
   "source": [
    "> Zadatak 4. Stvorite novi Soup objekt na temelju HTML izlaza, izlučite početni naslov \"Malo složeniji PDF dokument\" (Ne na temelju samog teksta, naravno)"
   ]
  },
  {
   "cell_type": "code",
   "execution_count": null,
   "metadata": {},
   "outputs": [],
   "source": [
    "from bs4 import BeautifulSoup\n",
    "\n",
    "pdf_soup = BeautifulSoup(output_string.getvalue(), \"html.parser\")\n",
    "\n",
    "print(pdf_soup.prettify())\n",
    "result = pdf_soup.find_all(\"span\", {\"style\": \"font-family: LiberationSans-Bold; font-size:28px\"})\n",
    "\n",
    "for r in result:\n",
    "    print(r.get_text())"
   ]
  },
  {
   "cell_type": "markdown",
   "metadata": {},
   "source": [
    "#### Lambda funkcija, find_all() metoda i regularni izrazi"
   ]
  },
  {
   "cell_type": "markdown",
   "metadata": {},
   "source": [
    "Sa metodom `find_all()` vrlo \"kruto\" pretražujemo naš dokument ukoliko je koristimo u obliku `.find_all(\"span\", {\"style\": \"font-family: LiberationSans-Bold; font-size:28px\"})`. Želimo li pronaći sve elemente kojima je tekst masno otisnut (Bold) moramo raditi više poziva i/ili specificirati više vrlo sličnih i potpunih stilova pojedinog HTML elementa -> NEUČINKOVITO.\n",
    "\n",
    "Kako bismo proces napravili nešto jednostavnijim, možemo koristiti [lambda funkcije](https://www.w3schools.com/python/python_lambda.asp), male anonimne funkcije.\n",
    "\n",
    "> Zadatak 5. Napravite lambda funkciju koja kvadrira ulaz.\n",
    "\n",
    "> Zadatak 6. Napravite lambda funkciju koja množi tri broja.\n",
    "\n",
    "> Zadatak 7. Napravite lambda funkciju koja vraća True ukoliko string sadrži substring \"test\".\n",
    "\n"
   ]
  },
  {
   "cell_type": "code",
   "execution_count": null,
   "metadata": {},
   "outputs": [],
   "source": [
    "# 5.\n",
    "x = lambda a: a * a\n",
    "print(x(5), x(10))\n",
    "\n",
    "# 6. \n",
    "y = lambda a, b, c: a * b * c\n",
    "print(y(1, 2, 3), y(5, 5, 5)) \n",
    "\n",
    "# 7. \n",
    "z = lambda str: \"test\" in str\n",
    "print(z(\"something\"), z(\"testsomething\"))"
   ]
  },
  {
   "cell_type": "markdown",
   "metadata": {},
   "source": [
    "> Zadatak 8. Iskoristite lambda funkciju unutar `find_all()` metode kako biste izlučili tekst svih \"span\" elemenata sa veličinom fonta 18px.\n",
    "\n",
    "Primjer: \n",
    "``` python\n",
    ".find_all(\"HTML_OZNAKA\", {\"NAZIV_ATRIBUTA\": lambda style: style and \"VRIJEDNOST_ATRIBUTA\" in style})\n",
    "```"
   ]
  },
  {
   "cell_type": "code",
   "execution_count": null,
   "metadata": {},
   "outputs": [],
   "source": [
    "# 8.\n",
    "result_2 = pdf_soup.find_all(\"span\", {\"style\": lambda style: style and \"font-size:18px\" in style})\n",
    "\n",
    "for r in result_2:\n",
    "    print(r.get_text())"
   ]
  },
  {
   "cell_type": "markdown",
   "metadata": {},
   "source": [
    "> Zadatak 9. Izlučite sve naslove."
   ]
  },
  {
   "cell_type": "code",
   "execution_count": null,
   "metadata": {},
   "outputs": [],
   "source": [
    "# Bez regularnog izraza\n",
    "result_3 = pdf_soup.find_all(\"span\", {\"style\": lambda style: style and \"LiberationSans-Bold\" in style})\n",
    "\n",
    "for r in result_3:\n",
    "    print(r.get_text())\n",
    "\n",
    "# S regularnim izrazom\n",
    "import re    \n",
    "result_3_1 = pdf_soup.find_all(\"span\", style=re.compile(r\"LiberationSans-Bold\"))\n",
    "\n",
    "for r in result_3_1:\n",
    "    print(r.get_text())"
   ]
  },
  {
   "cell_type": "markdown",
   "metadata": {},
   "source": [
    "#### ```find_next()``` tip metoda"
   ]
  },
  {
   "cell_type": "markdown",
   "metadata": {},
   "source": [
    "Procesirajmo jedan od prije preuzetih izvedbenih programa (moguće je i ručno preuzeti korišteni primjer: [DINP_FIDIT_2023_2024_PPJ.pdf](https://www.inf.uniri.hr/images/nastava/izvedbeni/2023_2024/PDS/3/DINP_FIDIT_2023_2024_PPJ.pdf))."
   ]
  },
  {
   "cell_type": "code",
   "execution_count": null,
   "metadata": {},
   "outputs": [],
   "source": [
    "from io import StringIO # Za tretiranje in memory objekata kao datoteka\n",
    "from pdfminer.high_level import extract_text_to_fp\n",
    "from pdfminer.layout import LAParams # Podešavanje parametara\n",
    "output_string = StringIO()\n",
    "\n",
    "with open('/UTOR/DINPovi/DINP_FIDIT_2023_2024_PPJ.pdf', 'rb') as fin:\n",
    "    extract_text_to_fp(\n",
    "        fin,\n",
    "        output_string,\n",
    "        laparams=LAParams(),\n",
    "        output_type='html',\n",
    "        codec=None,\n",
    "    )\n",
    "\n",
    "print(output_string.getvalue())"
   ]
  },
  {
   "cell_type": "code",
   "execution_count": null,
   "metadata": {},
   "outputs": [],
   "source": [
    "dinp_html = BeautifulSoup(output_string.getvalue(), \"html.parser\")"
   ]
  },
  {
   "cell_type": "code",
   "execution_count": null,
   "metadata": {},
   "outputs": [],
   "source": [
    "%%capture cap \n",
    "# Posebna komanda u Jupyter notebook okruženju\n",
    "\n",
    "print(dinp_html.prettify()) \n",
    "\n",
    "with open(\"/UTOR/output.html\", \"x\") as f:\n",
    "    f.write(cap.stdout)"
   ]
  },
  {
   "cell_type": "markdown",
   "metadata": {},
   "source": [
    "> Zadatak 10. Izlučite prvi redak tablice satnica izvođenja nastave, izlučite četvrti stupac tablice satnica izvođenje nastave. Iskoristite metode ```find_next() find_next_sibling() next_element()```."
   ]
  },
  {
   "cell_type": "code",
   "execution_count": null,
   "metadata": {},
   "outputs": [],
   "source": [
    "# 10.1\n",
    "import re\n",
    "d = dinp_html.find_all(lambda tag: tag.name == \"div\" and \"Tj.\" in tag.get_text())[0]\n",
    "\n",
    "\n",
    "teme = []\n",
    "\n",
    "while type(d) != type(None) and d.get_text() != \"\":\n",
    "    # print(d.get_text())\n",
    "    \n",
    "    if len(d.get_text()) > 14:\n",
    "        teme.append(d.get_text())\n",
    "\n",
    "    d = d.find_next_sibling()\n",
    "print(teme)"
   ]
  }
 ],
 "metadata": {
  "kernelspec": {
   "display_name": "base",
   "language": "python",
   "name": "python3"
  },
  "language_info": {
   "codemirror_mode": {
    "name": "ipython",
    "version": 3
   },
   "file_extension": ".py",
   "mimetype": "text/x-python",
   "name": "python",
   "nbconvert_exporter": "python",
   "pygments_lexer": "ipython3",
   "version": "3.8.13"
  }
 },
 "nbformat": 4,
 "nbformat_minor": 2
}
